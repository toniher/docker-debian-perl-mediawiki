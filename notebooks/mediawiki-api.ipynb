{
 "cells": [
  {
   "cell_type": "code",
   "execution_count": 1,
   "metadata": {},
   "outputs": [
    {
     "name": "stderr",
     "output_type": "stream",
     "text": [
      "https://ca.wikipedia.org/w/api.php\n"
     ]
    }
   ],
   "source": [
    "use MediaWiki::API;\n",
    "use Data::Dumper;\n",
    "\n",
    "my $mw = MediaWiki::API->new();\n",
    "$mw->{config}->{api_url} = 'https://ca.wikipedia.org/w/api.php';"
   ]
  },
  {
   "cell_type": "code",
   "execution_count": 2,
   "metadata": {},
   "outputs": [
    {
     "name": "stderr",
     "output_type": "stream",
     "text": [
      "Categoria:Colles_castelleres_del_Barcelonès\n"
     ]
    }
   ],
   "source": [
    "my $collesBarcelones = \"Categoria:Colles_castelleres_del_Barcelonès\""
   ]
  },
  {
   "cell_type": "code",
   "execution_count": 3,
   "metadata": {},
   "outputs": [
    {
     "name": "stderr",
     "output_type": "stream",
     "text": [
      "ARRAY(0x55c445614c10)\n"
     ]
    }
   ],
   "source": [
    "# get a list of articles in category\n",
    "my $articles = $mw->list ( {\n",
    "action => 'query',\n",
    "list => 'categorymembers',\n",
    "cmtitle => $collesBarcelones,\n",
    "cmlimit => 'max' } )\n",
    "|| die $mw->{error}->{code} . ': ' . $mw->{error}->{details};"
   ]
  },
  {
   "cell_type": "code",
   "execution_count": 4,
   "metadata": {},
   "outputs": [
    {
     "data": {
      "text/plain": [
       "Castellers de Badalona\n",
       "Castellers de l'Hospitalet\n",
       "Colla Jove de l'Hospitalet\n",
       "Castellers de Santa Coloma\n",
       "Laietans de Gramenet\n",
       "Categoria:Colles castelleres de Barcelona\n"
      ]
     },
     "execution_count": 4,
     "metadata": {},
     "output_type": "execute_result"
    }
   ],
   "source": [
    "# and print the article titles\n",
    "foreach (@{$articles}) {\n",
    "  print \"$_->{title}\\n\";\n",
    "}"
   ]
  },
  {
   "cell_type": "code",
   "execution_count": 5,
   "metadata": {},
   "outputs": [
    {
     "name": "stderr",
     "output_type": "stream",
     "text": [
      "Castellers de Badalona\n"
     ]
    }
   ],
   "source": [
    "my $colla = ${$articles}[0]->{title};"
   ]
  },
  {
   "cell_type": "code",
   "execution_count": 6,
   "metadata": {},
   "outputs": [
    {
     "name": "stderr",
     "output_type": "stream",
     "text": [
      "HASH(0x55c44618ae60)\n"
     ]
    }
   ],
   "source": [
    "# get a list of links\n",
    "my $links = $mw->api ( {\n",
    "action => 'query',\n",
    "prop => 'links',\n",
    "titles => $colla,\n",
    "pllimit => 5 } )\n",
    "|| die $mw->{error}->{code} . ': ' . $mw->{error}->{details};"
   ]
  },
  {
   "cell_type": "code",
   "execution_count": 7,
   "metadata": {},
   "outputs": [
    {
     "data": {
      "text/plain": [
       "$VAR1 = {\n",
       "          'query' => {\n",
       "                       'pages' => {\n",
       "                                    '106636' => {\n",
       "                                                  'ns' => 0,\n",
       "                                                  'links' => [\n",
       "                                                               {\n",
       "                                                                 'title' => '15 de novembre',\n",
       "                                                                 'ns' => 0\n",
       "                                                               },\n",
       "                                                               {\n",
       "                                                                 'title' => '17 de maig',\n",
       "                                                                 'ns' => 0\n",
       "                                                               },\n",
       "                                                               {\n",
       "                                                                 'title' => '1997',\n",
       "                                                                 'ns' => 0\n",
       "                                                               },\n",
       "                                                               {\n",
       "                                                                 'title' => '1998',\n",
       "                                                                 'ns' => 0\n",
       "                                                               },\n",
       "                                                               {\n",
       "                                                                 'title' => '2 de 7',\n",
       "                                                                 'ns' => 0\n",
       "                                                               }\n",
       "                                                             ],\n",
       "                                                  'title' => 'Castellers de Badalona',\n",
       "                                                  'pageid' => 106636\n",
       "                                                }\n",
       "                                  }\n",
       "                     },\n",
       "          'continue' => {\n",
       "                          'continue' => '||',\n",
       "                          'plcontinue' => '106636|0|3_de_7'\n",
       "                        }\n",
       "        };\n"
      ]
     },
     "execution_count": 7,
     "metadata": {},
     "output_type": "execute_result"
    },
    {
     "name": "stderr",
     "output_type": "stream",
     "text": [
      "1\n"
     ]
    }
   ],
   "source": [
    "print Dumper( $links );"
   ]
  }
 ],
 "metadata": {
  "kernelspec": {
   "display_name": "IPerl 0.008",
   "language": "perl",
   "name": "iperl"
  },
  "language_info": {
   "file_extension": ".pl",
   "mimetype": "text/x-perl",
   "name": "perl",
   "version": "5.26.1"
  }
 },
 "nbformat": 4,
 "nbformat_minor": 2
}
