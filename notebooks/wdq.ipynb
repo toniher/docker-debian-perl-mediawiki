{
 "cells": [
  {
   "cell_type": "code",
   "execution_count": 2,
   "metadata": {},
   "outputs": [
    {
     "name": "stdout",
     "output_type": "stream",
     "text": [
      "\u001b[0;33mQ544\u001b[0m: \u001b[0;32mSolar System\u001b[0m\r\n",
      "  planetary system of the Sun\r\n",
      "\u001b[0;33mQ7556035\u001b[0m: \u001b[0;32mSolar System\u001b[0m\r\n",
      "  song by The Beach Boys\r\n",
      "\u001b[0;33mQ1941852\u001b[0m: \u001b[0;32mSolar System model\u001b[0m\r\n",
      "  model to illustrate the positions and motions of bodies in the Solar System\r\n",
      "\u001b[0;33mQ2181264\u001b[0m: \u001b[0;32mSolar System Research\u001b[0m\r\n",
      "\u001b[0;33mQ7556039\u001b[0m: \u001b[0;32mSolar System in fiction\u001b[0m\r\n",
      "  fictional depictions of the Solar System\r\n",
      "\u001b[0;33mQ37105497\u001b[0m: \u001b[0;32mSolar System/Mars\u001b[0m\r\n",
      "\u001b[0;33mQ29562991\u001b[0m: \u001b[0;32mSolar System/Moon\u001b[0m\r\n"
     ]
    }
   ],
   "source": [
    "!wdq -g en solar system"
   ]
  },
  {
   "cell_type": "code",
   "execution_count": 3,
   "metadata": {},
   "outputs": [
    {
     "name": "stdout",
     "output_type": "stream",
     "text": [
      "\u001b[0;33mP361\u001b[0m: \u001b[0;32mforma parte de\u001b[0m (\u001b[0;32mparte de\u001b[0m)\r\n",
      "  es parte del elemento. Propiedad inversa de \"compuesto de\" (P527). Tambi��n v�����\r\n",
      "\u001b[0;33mP518\u001b[0m: \u001b[0;32mparte implicada\u001b[0m\r\n",
      "  parte del elemento para la cual la afirmaci��n es v��lida\r\n",
      "\u001b[0;33mP1080\u001b[0m: \u001b[0;32mdel universo ficticio\u001b[0m (\u001b[0;32mparte del universo ficticio\u001b[0m)\r\n",
      "  el sujeto pertenece a este universo ficticio\r\n",
      "\u001b[0;33mP1592\u001b[0m: \u001b[0;32mfiscal\u001b[0m (\u001b[0;32mparte acusadora\u001b[0m)\r\n",
      "  persona que representa a la autoridad acusadora en un proceso\r\n"
     ]
    }
   ],
   "source": [
    "!wdq psearch -g es parte"
   ]
  },
  {
   "cell_type": "code",
   "execution_count": 4,
   "metadata": {},
   "outputs": [
    {
     "name": "stdout",
     "output_type": "stream",
     "text": [
      "[ {\n",
      "  \u001b[0;34m\"description\"\u001b[0m: \u001b[0;32m\"object of which the subject is a part. Inverse property of \\\"has part\\\" (P527). See also \\\"has parts of the class\\\" (P2670).\"\u001b[0m,\n",
      "  \u001b[0;34m\"id\"\u001b[0m: \u001b[0;32m\"http://www.wikidata.org/entity/P361\"\u001b[0m,\n",
      "  \u001b[0;34m\"label\"\u001b[0m: \u001b[0;32m\"part of\"\u001b[0m\n",
      "},{\n",
      "  \u001b[0;34m\"description\"\u001b[0m: \u001b[0;32m\"planetary system of the Sun\"\u001b[0m,\n",
      "  \u001b[0;34m\"id\"\u001b[0m: \u001b[0;32m\"http://www.wikidata.org/entity/Q544\"\u001b[0m,\n",
      "  \u001b[0;34m\"label\"\u001b[0m: \u001b[0;32m\"Solar System\"\u001b[0m\n",
      "} ]\n"
     ]
    }
   ],
   "source": [
    "!wdq P361 Q544"
   ]
  },
  {
   "cell_type": "code",
   "execution_count": 1,
   "metadata": {},
   "outputs": [
    {
     "name": "stdout",
     "output_type": "stream",
     "text": [
      "[ {\n",
      "  \u001b[0;34m\"c\"\u001b[0m: \u001b[0;32m\"http://www.wikidata.org/entity/Q111\"\u001b[0m\n",
      "},{\n",
      "  \u001b[0;34m\"c\"\u001b[0m: \u001b[0;32m\"http://www.wikidata.org/entity/Q193\"\u001b[0m\n",
      "},{\n",
      "  \u001b[0;34m\"c\"\u001b[0m: \u001b[0;32m\"http://www.wikidata.org/entity/Q308\"\u001b[0m\n",
      "},{\n",
      "  \u001b[0;34m\"c\"\u001b[0m: \u001b[0;32m\"http://www.wikidata.org/entity/Q313\"\u001b[0m\n",
      "},{\n",
      "  \u001b[0;34m\"c\"\u001b[0m: \u001b[0;32m\"http://www.wikidata.org/entity/Q319\"\u001b[0m\n",
      "},{\n",
      "  \u001b[0;34m\"c\"\u001b[0m: \u001b[0;32m\"http://www.wikidata.org/entity/Q324\"\u001b[0m\n",
      "},{\n",
      "  \u001b[0;34m\"c\"\u001b[0m: \u001b[0;32m\"http://www.wikidata.org/entity/Q332\"\u001b[0m\n",
      "},{\n",
      "  \u001b[0;34m\"c\"\u001b[0m: \u001b[0;32m\"http://www.wikidata.org/entity/Q525\"\u001b[0m\n",
      "},{\n",
      "  \u001b[0;34m\"c\"\u001b[0m: \u001b[0;32m\"http://www.wikidata.org/entity/Q2179\"\u001b[0m\n",
      "},{\n",
      "  \u001b[0;34m\"c\"\u001b[0m: \u001b[0;32m\"http://www.wikidata.org/entity/Q6604\"\u001b[0m\n",
      "},{\n",
      "  \u001b[0;34m\"c\"\u001b[0m: \u001b[0;32m\"http://www.wikidata.org/entity/Q180380\"\u001b[0m\n",
      "},{\n",
      "  \u001b[0;34m\"c\"\u001b[0m: \u001b[0;32m\"http://www.wikidata.org/entity/Q193275\"\u001b[0m\n",
      "},{\n",
      "  \u001b[0;34m\"c\"\u001b[0m: \u001b[0;32m\"http://www.wikidata.org/entity/Q2803875\"\u001b[0m\n",
      "},{\n",
      "  \u001b[0;34m\"c\"\u001b[0m: \u001b[0;32m\"http://www.wikidata.org/entity/Q7879772\"\u001b[0m\n",
      "},{\n",
      "  \u001b[0;34m\"c\"\u001b[0m: \u001b[0;32m\"http://www.wikidata.org/entity/Q15008074\"\u001b[0m\n",
      "},{\n",
      "  \u001b[0;34m\"c\"\u001b[0m: \u001b[0;32m\"http://www.wikidata.org/entity/Q17339402\"\u001b[0m\n",
      "},{\n",
      "  \u001b[0;34m\"c\"\u001b[0m: \u001b[0;32m\"http://www.wikidata.org/entity/Q17362350\"\u001b[0m\n",
      "},{\n",
      "  \u001b[0;34m\"c\"\u001b[0m: \u001b[0;32m\"http://www.wikidata.org/entity/Q20098030\"\u001b[0m\n",
      "},{\n",
      "  \u001b[0;34m\"c\"\u001b[0m: \u001b[0;32m\"http://www.wikidata.org/entity/Q22133699\"\u001b[0m\n",
      "},{\n",
      "  \u001b[0;34m\"c\"\u001b[0m: \u001b[0;32m\"http://www.wikidata.org/entity/Q30250598\"\u001b[0m\n",
      "} ]\n"
     ]
    }
   ],
   "source": [
    "!wdq '?c wdt:P361 wd:Q544'"
   ]
  }
 ],
 "metadata": {
  "kernelspec": {
   "display_name": "Python 3",
   "language": "python",
   "name": "python3"
  },
  "language_info": {
   "codemirror_mode": {
    "name": "ipython",
    "version": 3
   },
   "file_extension": ".py",
   "mimetype": "text/x-python",
   "name": "python",
   "nbconvert_exporter": "python",
   "pygments_lexer": "ipython3",
   "version": "3.6.3"
  }
 },
 "nbformat": 4,
 "nbformat_minor": 2
}
